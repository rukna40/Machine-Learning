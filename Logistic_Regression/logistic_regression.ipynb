{
 "cells": [
  {
   "cell_type": "code",
   "execution_count": 91,
   "metadata": {},
   "outputs": [],
   "source": [
    "import numpy as np\n",
    "import pandas as pd\n",
    "import matplotlib.pyplot as plt\n",
    "from sklearn.model_selection import train_test_split\n",
    "\n",
    "df=pd.read_csv('winequality-red.csv')"
   ]
  },
  {
   "cell_type": "code",
   "execution_count": 92,
   "metadata": {},
   "outputs": [],
   "source": [
    "x=df.iloc[:,:11]\n",
    "y=df.iloc[:,11].values"
   ]
  },
  {
   "cell_type": "code",
   "execution_count": 93,
   "metadata": {},
   "outputs": [],
   "source": [
    "x_norm=(x-x.mean())/x.std()\n",
    "ones=np.ones([x_norm.shape[0],1])\n",
    "x_norm=np.concatenate((ones,x_norm),axis=1)"
   ]
  },
  {
   "cell_type": "code",
   "execution_count": 94,
   "metadata": {},
   "outputs": [],
   "source": [
    "y_ohe=[]\n",
    "for i in y:\n",
    "    if i==3:\n",
    "        e=[1,0,0,0,0,0]\n",
    "    elif i==4:\n",
    "        e=[0,1,0,0,0,0]\n",
    "    elif i==5:\n",
    "        e=[0,0,1,0,0,0]\n",
    "    elif i==6:\n",
    "        e=[0,0,0,1,0,0]\n",
    "    elif i==7:\n",
    "        e=[0,0,0,0,1,0]\n",
    "    elif i==8:\n",
    "        e=[0,0,0,0,0,1]\n",
    "    y_ohe.append(e)"
   ]
  },
  {
   "cell_type": "code",
   "execution_count": 95,
   "metadata": {},
   "outputs": [],
   "source": [
    "x_train, x_test, y_train, y_test = train_test_split(x_norm, np.array(y_ohe), test_size = 0.25, random_state = 605)\n",
    "w=np.zeros((6,12))\n",
    "a=np.zeros((len(x_train),6))\n",
    "a_test=np.zeros((len(x_test),6))"
   ]
  },
  {
   "cell_type": "code",
   "execution_count": 96,
   "metadata": {},
   "outputs": [
    {
     "data": {
      "text/plain": [
       "array([[0.16666667, 0.16666667, 0.16666667, 0.16666667, 0.16666667,\n",
       "        0.16666667],\n",
       "       [0.16666667, 0.16666667, 0.16666667, 0.16666667, 0.16666667,\n",
       "        0.16666667],\n",
       "       [0.16666667, 0.16666667, 0.16666667, 0.16666667, 0.16666667,\n",
       "        0.16666667],\n",
       "       ...,\n",
       "       [0.16666667, 0.16666667, 0.16666667, 0.16666667, 0.16666667,\n",
       "        0.16666667],\n",
       "       [0.16666667, 0.16666667, 0.16666667, 0.16666667, 0.16666667,\n",
       "        0.16666667],\n",
       "       [0.16666667, 0.16666667, 0.16666667, 0.16666667, 0.16666667,\n",
       "        0.16666667]])"
      ]
     },
     "execution_count": 96,
     "metadata": {},
     "output_type": "execute_result"
    }
   ],
   "source": [
    "def softmax(x_train,w,a):\n",
    "    z=np.dot(x_train,w.T)\n",
    "    for i in range(len(z)):\n",
    "        for j in range(len(z[i])):\n",
    "            a[i][j]=np.exp(z[i][j])/np.sum(np.exp(z[i]))\n",
    "    return a\n",
    "softmax(x_train,w,a)"
   ]
  },
  {
   "cell_type": "code",
   "execution_count": 97,
   "metadata": {},
   "outputs": [
    {
     "data": {
      "text/plain": [
       "1.7917594692280547"
      ]
     },
     "execution_count": 97,
     "metadata": {},
     "output_type": "execute_result"
    }
   ],
   "source": [
    "def lossfn(a,y_train):\n",
    "    loss=0\n",
    "    for i in range(len(a)):\n",
    "        for k in range(len(a[i])):\n",
    "            loss+=y_train[i][k]*np.log(a[i][k])\n",
    "    return ((-1)/len(a))*(loss)\n",
    "lossfn(a,y_train)"
   ]
  },
  {
   "cell_type": "code",
   "execution_count": 98,
   "metadata": {},
   "outputs": [],
   "source": [
    "def gradient_descent(x_train,y_train,w,alpha,epoch,a):\n",
    "    cost=[]\n",
    "    for iter in range(epoch):        \n",
    "        total=alpha*np.dot(x_train.T,(y_train-a))/len(a)\n",
    "        w=w+total.T\n",
    "        a=softmax(x_train,w,a)\n",
    "        cost.append(lossfn(a,y_train))\n",
    "    return w,cost\n"
   ]
  },
  {
   "cell_type": "code",
   "execution_count": 99,
   "metadata": {},
   "outputs": [],
   "source": [
    "alpha=0.2\n",
    "epoch=1000\n",
    "g,cost_list=gradient_descent(x_train,y_train,w,alpha,epoch,a)"
   ]
  },
  {
   "cell_type": "code",
   "execution_count": 100,
   "metadata": {},
   "outputs": [
    {
     "data": {
      "text/plain": [
       "[<matplotlib.lines.Line2D at 0x7f993337b0d0>]"
      ]
     },
     "execution_count": 100,
     "metadata": {},
     "output_type": "execute_result"
    },
    {
     "data": {
      "image/png": "[encoded data removed]",
      "text/plain": [
       "<Figure size 640x480 with 1 Axes>"
      ]
     },
     "metadata": {},
     "output_type": "display_data"
    }
   ],
   "source": [
    "plt.plot(cost_list)"
   ]
  },
  {
   "cell_type": "code",
   "execution_count": 101,
   "metadata": {},
   "outputs": [
    {
     "name": "stdout",
     "output_type": "stream",
     "text": [
      "Accuracy: 66.0 %\n"
     ]
    }
   ],
   "source": [
    "y_pred_prob = softmax(x_test, g,a_test)\n",
    "y_pred = np.argmax(y_pred_prob, axis=1)\n",
    "accuracy = np.mean(y_pred == np.argmax(y_test, axis=1)) * 100\n",
    "print(\"Accuracy:\", accuracy, \"%\")"
   ]
  }
 ],
 "metadata": {
  "kernelspec": {
   "display_name": "Python 3",
   "language": "python",
   "name": "python3"
  },
  "language_info": {
   "codemirror_mode": {
    "name": "ipython",
    "version": 3
   },
   "file_extension": ".py",
   "mimetype": "text/x-python",
   "name": "python",
   "nbconvert_exporter": "python",
   "pygments_lexer": "ipython3",
   "version": "3.8.10"
  },
  "orig_nbformat": 4
 },
 "nbformat": 4,
 "nbformat_minor": 2
}
