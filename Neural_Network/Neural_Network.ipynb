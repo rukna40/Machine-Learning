{
 "cells": [
  {
   "cell_type": "code",
   "execution_count": 543,
   "metadata": {},
   "outputs": [],
   "source": [
    "import tensorflow as tf\n",
    "import numpy as np\n",
    "import pandas as pd\n",
    "from sklearn.metrics import *\n",
    "from sklearn.model_selection import train_test_split\n",
    "import imgaug.augmenters as iaa"
   ]
  },
  {
   "cell_type": "code",
   "execution_count": 544,
   "metadata": {},
   "outputs": [],
   "source": [
    "(x, y), (x_test, y_test) = tf.keras.datasets.mnist.load_data()\n",
    "x_train, x_val, y_train, y_val = train_test_split(x,y, test_size=0.1, random_state=42)\n",
    "\n",
    "y_ohe=pd.get_dummies(y_train).values\n",
    "# y_test_ohe=pd.get_dummies(y_test).values\n",
    "# y_val_ohe=pd.get_dummies(y_val).values"
   ]
  },
  {
   "cell_type": "code",
   "execution_count": 545,
   "metadata": {},
   "outputs": [],
   "source": [
    "x_train=x_train.astype('float32')/255.0\n",
    "x_test=x_test.astype('float32')/255.0\n",
    "x_val=x_val.astype('float32')/255.0"
   ]
  },
  {
   "cell_type": "code",
   "execution_count": 546,
   "metadata": {},
   "outputs": [],
   "source": [
    "seq = iaa.Sequential([\n",
    "    iaa.Crop(px=(0, 10)),\n",
    "    iaa.Fliplr(0.5),\n",
    "    iaa.GaussianBlur(sigma=(0, 1.0))\n",
    "])\n",
    "\n",
    "x_aug = seq.augment_images(x_train)\n",
    "x_test_aug = seq.augment_images(x_test)\n",
    "x_val_aug = seq.augment_images(x_val)\n"
   ]
  },
  {
   "cell_type": "code",
   "execution_count": 547,
   "metadata": {},
   "outputs": [],
   "source": [
    "x_aug=x_aug.reshape(x_aug.shape[0],x_aug.shape[1]*x_aug.shape[2])\n",
    "x_test_aug=x_test_aug.reshape(x_test_aug.shape[0],x_test_aug.shape[1]*x_test_aug.shape[2])\n",
    "x_val_aug=x_val_aug.reshape(x_val_aug.shape[0],x_val_aug.shape[1]*x_val_aug.shape[2])"
   ]
  },
  {
   "cell_type": "code",
   "execution_count": 548,
   "metadata": {},
   "outputs": [],
   "source": [
    "def initialize_parameters(n_in, n_h, n_out):\n",
    "\n",
    "    W1=np.random.randn(n_in,n_h) * np.sqrt(2 / (n_in + n_h)) \n",
    "    b1=np.random.randn(1, n_h) * 0.01#np.sqrt(2 / (1 + n_h))\n",
    "    W2=np.random.randn(n_h,n_h) * np.sqrt(2 / (n_h + n_h)) \n",
    "    b2=np.random.randn(1, n_h) * 0.01#np.sqrt(2 / (1 + n_h))\n",
    "    W3=np.random.randn(n_h,n_out) * np.sqrt(2 / (n_h + n_out)) \n",
    "    b3=np.random.randn(1, n_out) * 0.01#np.sqrt(2 / (1 + n_out))\n",
    "\n",
    "    parameters = {\"W1\": W1,\"b1\": b1,\"W2\": W2,\"b2\": b2,\"W3\": W3,\"b3\": b3}\n",
    "    \n",
    "    return parameters\n"
   ]
  },
  {
   "cell_type": "code",
   "execution_count": 549,
   "metadata": {},
   "outputs": [],
   "source": [
    "def relu(x):\n",
    "        return np.maximum(0, x)"
   ]
  },
  {
   "cell_type": "code",
   "execution_count": 550,
   "metadata": {},
   "outputs": [],
   "source": [
    "def softmax(x):\n",
    "    e_x = np.exp(x - np.max(x, axis=1, keepdims=True))\n",
    "    return e_x / np.sum(e_x, axis=1, keepdims=True)"
   ]
  },
  {
   "cell_type": "code",
   "execution_count": 551,
   "metadata": {},
   "outputs": [],
   "source": [
    "def reluDeriv(x):\n",
    "        return x > 0 "
   ]
  },
  {
   "cell_type": "code",
   "execution_count": 552,
   "metadata": {},
   "outputs": [],
   "source": [
    "def forward_propagation(X, parameters):\n",
    "    W1=parameters[\"W1\"]\n",
    "    b1=parameters[\"b1\"]\n",
    "    W2=parameters[\"W2\"]\n",
    "    b2=parameters[\"b2\"]  \n",
    "    W3=parameters[\"W3\"]\n",
    "    b3=parameters[\"b3\"]   \n",
    "    \n",
    "    Z1=np.dot(X,W1)+b1\n",
    "    A1=relu(Z1)\n",
    "    Z2=np.dot(A1,W2)+b2\n",
    "    A2=relu(Z2)\n",
    "    Z3=np.dot(A2,W3)+b3\n",
    "    A3=softmax(Z3)\n",
    "    \n",
    "    values = {\"Z1\": Z1,\"A1\": A1,\"Z2\": Z2,\"A2\": A2, \"Z3\": Z3,\"A3\": A3}\n",
    "    \n",
    "    return values"
   ]
  },
  {
   "cell_type": "code",
   "execution_count": 553,
   "metadata": {},
   "outputs": [],
   "source": [
    "def backward_propagation(parameters, values, X, Y):\n",
    "\n",
    "    m = X.shape[1]\n",
    "    W2=parameters[\"W2\"]\n",
    "    W3=parameters[\"W3\"]\n",
    "    Z1=values[\"Z1\"]\n",
    "    Z2=values[\"Z2\"]\n",
    "    A1=values[\"A1\"]\n",
    "    A2=values[\"A2\"]\n",
    "    A3=values[\"A3\"]\n",
    "\n",
    "    dZ3 = A3-Y\n",
    "    dW3 = np.dot(A2.T,dZ3)/m\n",
    "    db3 = np.sum(dZ3,axis=0,keepdims=True)/m\n",
    "\n",
    "    dZ2 = np.multiply(np.dot(dZ3,W3.T),reluDeriv(Z2))\n",
    "    dW2 = np.dot(A1.T,dZ2)/m\n",
    "    db2 = np.sum(dZ2,axis=0,keepdims=True)/m\n",
    "\n",
    "    dZ1 = np.multiply(np.dot(dZ2,W2.T),reluDeriv(Z1))\n",
    "    dW1 = np.dot(X.T,dZ1)/m\n",
    "    db1 = np.sum(dZ1,axis=0,keepdims=True)/m\n",
    "    \n",
    "    gradients = {\"dW1\": dW1,\"db1\": db1,\"dW2\": dW2,\"db2\": db2,\"dW3\": dW3,\"db3\": db3}\n",
    "    \n",
    "    return gradients"
   ]
  },
  {
   "cell_type": "code",
   "execution_count": 554,
   "metadata": {},
   "outputs": [],
   "source": [
    "def update_parameters(parameters, gradients, alpha):\n",
    "    parameters[\"W1\"]-=(alpha * gradients[\"dW1\"])\n",
    "    parameters[\"b1\"]-=(alpha * gradients[\"db1\"])\n",
    "    parameters[\"W2\"]-=(alpha * gradients[\"dW2\"])\n",
    "    parameters[\"b2\"]-=(alpha * gradients[\"db2\"])\n",
    "    parameters[\"W3\"]-=(alpha * gradients[\"dW3\"])\n",
    "    parameters[\"b3\"]-=(alpha * gradients[\"db3\"])\n",
    "    return parameters"
   ]
  },
  {
   "cell_type": "code",
   "execution_count": 555,
   "metadata": {},
   "outputs": [],
   "source": [
    "def nn_model(X, Y, epoch, alpha):\n",
    "    parameters=initialize_parameters(X.shape[1],100,Y.shape[1])\n",
    "    for i in range(epoch):\n",
    "        values = forward_propagation(X, parameters)\n",
    "        grads = backward_propagation(parameters, values, X, Y)\n",
    "        parameters = update_parameters(parameters, grads, alpha)\n",
    "        # if i % 10 == 0:\n",
    "            # acc = accuracy_score(np.argmax(Y, axis=1),  np.argmax(values[\"A3\"], axis=1))\n",
    "            # print(f\"Epoch {i}, Accuracy: {acc}\")\n",
    "    return parameters"
   ]
  },
  {
   "cell_type": "code",
   "execution_count": 556,
   "metadata": {},
   "outputs": [],
   "source": [
    "final=nn_model(x_aug,y_ohe,300,0.005)"
   ]
  },
  {
   "cell_type": "code",
   "execution_count": null,
   "metadata": {},
   "outputs": [
    {
     "name": "stdout",
     "output_type": "stream",
     "text": [
      "Training Accuracy: \n",
      "              precision    recall  f1-score   support\n",
      "\n",
      "           0       0.56      0.79      0.65      5299\n",
      "           1       0.73      0.95      0.82      6088\n",
      "           2       0.51      0.70      0.59      5386\n",
      "           3       0.54      0.31      0.40      5542\n",
      "           4       0.62      0.73      0.67      5262\n",
      "           5       0.43      0.27      0.33      4870\n",
      "           6       0.71      0.49      0.58      5338\n",
      "           7       0.49      0.83      0.62      5632\n",
      "           8       0.79      0.25      0.38      5266\n",
      "           9       0.65      0.45      0.53      5317\n",
      "\n",
      "    accuracy                           0.59     54000\n",
      "   macro avg       0.60      0.58      0.56     54000\n",
      "weighted avg       0.60      0.59      0.56     54000\n",
      "\n",
      "Testing Accuracy: \n",
      "              precision    recall  f1-score   support\n",
      "\n",
      "           0       0.55      0.80      0.65       980\n",
      "           1       0.75      0.95      0.84      1135\n",
      "           2       0.52      0.69      0.60      1032\n",
      "           3       0.53      0.33      0.40      1010\n",
      "           4       0.60      0.73      0.66       982\n",
      "           5       0.40      0.23      0.29       892\n",
      "           6       0.69      0.47      0.56       958\n",
      "           7       0.49      0.82      0.61      1028\n",
      "           8       0.73      0.25      0.37       974\n",
      "           9       0.62      0.44      0.52      1009\n",
      "\n",
      "    accuracy                           0.58     10000\n",
      "   macro avg       0.59      0.57      0.55     10000\n",
      "weighted avg       0.59      0.58      0.56     10000\n",
      "\n",
      "Validation Accuracy: \n",
      "              precision    recall  f1-score   support\n",
      "\n",
      "           0       0.56      0.79      0.65       624\n",
      "           1       0.73      0.95      0.83       654\n",
      "           2       0.50      0.74      0.59       572\n",
      "           3       0.52      0.30      0.38       589\n",
      "           4       0.64      0.76      0.69       580\n",
      "           5       0.41      0.23      0.29       551\n",
      "           6       0.67      0.47      0.55       580\n",
      "           7       0.49      0.83      0.61       633\n",
      "           8       0.85      0.24      0.38       585\n",
      "           9       0.65      0.45      0.53       632\n",
      "\n",
      "    accuracy                           0.58      6000\n",
      "   macro avg       0.60      0.58      0.55      6000\n",
      "weighted avg       0.60      0.58      0.56      6000\n",
      "\n"
     ]
    }
   ],
   "source": [
    "print(\"Training Accuracy: \")\n",
    "vals=forward_propagation(x_aug, final)\n",
    "y_true = np.argmax(vals[\"A3\"], axis=1)\n",
    "report1 = classification_report(y_train, y_true)\n",
    "print(report1)\n",
    "\n",
    "print(\"Testing Accuracy: \")\n",
    "vals=forward_propagation(x_test_aug, final)\n",
    "y_true = np.argmax(vals[\"A3\"], axis=1)\n",
    "report2 = classification_report(y_test, y_true)\n",
    "print(report2)\n",
    "\n",
    "print(\"Validation Accuracy: \")\n",
    "vals=forward_propagation(x_val_aug, final)\n",
    "y_true = np.argmax(vals[\"A3\"], axis=1)\n",
    "report3 = classification_report(y_val, y_true)\n",
    "print(report3)"
   ]
  }
 ],
 "metadata": {
  "kernelspec": {
   "display_name": "Python 3",
   "language": "python",
   "name": "python3"
  },
  "language_info": {
   "codemirror_mode": {
    "name": "ipython",
    "version": 3
   },
   "file_extension": ".py",
   "mimetype": "text/x-python",
   "name": "python",
   "nbconvert_exporter": "python",
   "pygments_lexer": "ipython3",
   "version": "3.10.11"
  },
  "orig_nbformat": 4
 },
 "nbformat": 4,
 "nbformat_minor": 2
}
